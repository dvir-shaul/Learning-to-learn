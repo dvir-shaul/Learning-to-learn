{
 "cells": [
  {
   "cell_type": "markdown",
   "metadata": {
    "colab_type": "text",
    "id": "GlyMLKngmf-t"
   },
   "source": [
    "#Prototypical Netwoks on the notMNIST data"
   ]
  },
  {
   "cell_type": "markdown",
   "metadata": {
    "colab_type": "text",
    "id": "ajyUEekbufOD"
   },
   "source": [
    "*   `Author:` Dvir shaul, Samuel Harroch, Yehonatan Escojido, Adi Hoftman.\n",
    "*   `Date:` 05/2022\n",
    "*   `Credit:` Main source of inspiration [https://github.com/jakesnell/prototypical-networks](https://github.com/jakesnell/prototypical-networks)"
   ]
  },
  {
   "cell_type": "markdown",
   "metadata": {
    "colab_type": "text",
    "id": "uh1W3Lszseoa"
   },
   "source": [
    "##Import libraries"
   ]
  },
  {
   "cell_type": "code",
   "execution_count": 1,
   "metadata": {
    "colab": {},
    "colab_type": "code",
    "id": "F8XY5yCCZCYZ"
   },
   "outputs": [],
   "source": [
    "import numpy as np\n",
    "import matplotlib.pyplot as plt\n",
    "from scipy import ndimage\n",
    "import multiprocessing as mp\n",
    "import os\n",
    "os.environ['KMP_DUPLICATE_LIB_OK']='True'\n",
    "import cv2\n",
    "\n",
    "import matplotlib.pyplot as plt\n",
    "import torch\n",
    "import torch.nn as nn\n",
    "import torchvision\n",
    "import torch.nn.functional as F\n",
    "import torch.optim as optim\n",
    "from torch.autograd import Variable\n",
    "\n",
    "from tqdm import tqdm_notebook\n",
    "from tqdm import tnrange\n",
    "import warnings\n",
    "warnings.filterwarnings(\"ignore\")"
   ]
  },
  {
   "cell_type": "code",
   "execution_count": 2,
   "metadata": {
    "colab": {
     "base_uri": "https://localhost:8080/",
     "height": 34
    },
    "colab_type": "code",
    "id": "X5zGtLpGIziY",
    "outputId": "86df2581-5686-4b0a-de71-606e4d36b5c7"
   },
   "outputs": [
    {
     "name": "stdout",
     "output_type": "stream",
     "text": [
      "True\n"
     ]
    }
   ],
   "source": [
    "#Check GPU support, please do activate GPU\n",
    "print(torch.cuda.is_available())"
   ]
  },
  {
   "cell_type": "markdown",
   "metadata": {
    "colab_type": "text",
    "id": "l33V3V0asntp"
   },
   "source": [
    "##Read data"
   ]
  },
  {
   "cell_type": "markdown",
   "metadata": {
    "colab_type": "text",
    "id": "bMLu94FStR5n"
   },
   "source": [
    "The notMNIST dataset contains 10 letters of the english alphabets with each contain 1832 expamples. \n",
    "It is split into a background set and We will use the background set for training and the evaluation set for testing."
   ]
  },
  {
   "cell_type": "code",
   "execution_count": 3,
   "metadata": {
    "colab": {},
    "colab_type": "code",
    "id": "U1JXlgXT7aMG"
   },
   "outputs": [],
   "source": [
    "def read_alphabets(alphabet_directory_path, alphabet_directory_name):\n",
    "    \"\"\"\n",
    "    Reads all the characters from a given alphabet_directory\n",
    "    \"\"\"\n",
    "    datax = []\n",
    "    datay = []\n",
    "    characters = os.listdir(alphabet_directory_path)   \n",
    "    print(alphabet_directory_name)\n",
    "    print(characters) \n",
    "    for character in characters:\n",
    "        images = os.listdir(alphabet_directory_path + character + '/')\n",
    "        for img in images:\n",
    "            image = cv2.imread(alphabet_directory_path + character + '/' + img)\n",
    "            if image is not None :\n",
    "                image = cv2.resize(image,(28,28))\n",
    "                #rotations of image\n",
    "                rotated_90 = ndimage.rotate(image, 90)\n",
    "                rotated_180 = ndimage.rotate(image, 180)\n",
    "                rotated_270 = ndimage.rotate(image, 270)\n",
    "                datax.extend((image, rotated_90, rotated_180, rotated_270))\n",
    "                datay.extend((\n",
    "                    alphabet_directory_name + '_' + character + '_0',\n",
    "                    alphabet_directory_name + '_' + character + '_90',\n",
    "                    alphabet_directory_name + '_' + character + '_180',\n",
    "                    alphabet_directory_name + '_' + character + '_270'\n",
    "                ))\n",
    "    return np.array(datax), np.array(datay)\n",
    "\n",
    "\n",
    "def read_images(base_directory):\n",
    "    \"\"\"\n",
    "    Reads all the alphabets from the base_directory\n",
    "    Uses multithreading to decrease the reading time drastically\n",
    "    \"\"\"\n",
    "    datax = None\n",
    "    datay = None\n",
    "    \n",
    "    results = list(map(read_alphabets,[base_directory + '/' + directory + '/' for directory in os.listdir(base_directory) ], \n",
    "                       [directory for directory in os.listdir(base_directory)]))\n",
    "    \n",
    "    for result in results:\n",
    "        if datax is None:\n",
    "            datax = result[0]\n",
    "            datay = result[1]\n",
    "        else:\n",
    "            datax = np.vstack([datax, result[0]])\n",
    "            datay = np.concatenate([datay, result[1]])\n",
    "    return datax, datay"
   ]
  },
  {
   "cell_type": "code",
   "execution_count": 4,
   "metadata": {
    "colab": {
     "base_uri": "https://localhost:8080/",
     "height": 50
    },
    "colab_type": "code",
    "id": "P7UN-n0l7aT0",
    "outputId": "147692d1-df50-484e-d848-854d905c55e3"
   },
   "outputs": [
    {
     "name": "stdout",
     "output_type": "stream",
     "text": [
      "English\n",
      "['A', 'B', 'C', 'D', 'E']\n",
      "English\n",
      "['F', 'G', 'H', 'I', 'J']\n",
      "Wall time: 41.4 s\n"
     ]
    }
   ],
   "source": [
    "%%time \n",
    "trainx, trainy = read_images('./images_background')\n",
    "testx, testy = read_images('./images_evaluation')\n"
   ]
  },
  {
   "cell_type": "code",
   "execution_count": 5,
   "metadata": {
    "colab": {
     "base_uri": "https://localhost:8080/",
     "height": 34
    },
    "colab_type": "code",
    "id": "Li3bT2bPAdih",
    "outputId": "14138bcd-2f38-4d65-bb0f-ad6d97a19b74"
   },
   "outputs": [
    {
     "data": {
      "text/plain": [
       "((36636, 28, 28, 3), (36636,), (36620, 28, 28, 3), (36620,))"
      ]
     },
     "execution_count": 5,
     "metadata": {},
     "output_type": "execute_result"
    }
   ],
   "source": [
    "trainx.shape, trainy.shape, testx.shape, testy.shape"
   ]
  },
  {
   "cell_type": "markdown",
   "metadata": {
    "colab_type": "text",
    "id": "aLWx2XCWwAxx"
   },
   "source": [
    "The training set contains 36,636 images and the testing set contains 36,636 images."
   ]
  },
  {
   "cell_type": "markdown",
   "metadata": {
    "colab_type": "text",
    "id": "J2VcplJ3xA-z"
   },
   "source": [
    "##Create samples"
   ]
  },
  {
   "cell_type": "code",
   "execution_count": 6,
   "metadata": {
    "colab": {},
    "colab_type": "code",
    "id": "oDOhxCjd24bw"
   },
   "outputs": [],
   "source": [
    "def extract_sample(n_way, n_support, n_query, datax, datay):\n",
    "    \n",
    "  \"\"\"\n",
    "  Picks random sample of size n_support+n_querry, for n_way classes\n",
    "  Args:\n",
    "      n_way (int): number of classes in a classification task\n",
    "      n_support (int): number of labeled examples per class in the support set\n",
    "      n_query (int): number of labeled examples per class in the query set\n",
    "      datax (np.array): dataset of images\n",
    "      datay (np.array): dataset of labels\n",
    "  Returns:\n",
    "      (dict) of:\n",
    "        (torch.Tensor): sample of images. Size (n_way, n_support+n_query, (dim))\n",
    "        (int): n_way\n",
    "        (int): n_support\n",
    "        (int): n_query\n",
    "  \"\"\"\n",
    "  sample = []\n",
    "  labels = []  \n",
    "  K = np.random.choice(np.unique(datay), n_way, replace=False)\n",
    "  for cls in K:\n",
    "    datax_cls = datax[datay == cls]\n",
    "    perm = np.random.permutation(datax_cls)\n",
    "    sample_cls = perm[:(n_support+n_query)]\n",
    "    sample.append(sample_cls)\n",
    "    labels.append([cls]*(n_support+n_query))\n",
    "    \n",
    "  \n",
    "  pure_sample = sample\n",
    "  sample = np.array(sample)\n",
    "  \n",
    "  sample = torch.from_numpy(sample).float()\n",
    "  sample = sample.permute(0,1,4,2,3)\n",
    "  return({\n",
    "      'labels': labels,\n",
    "      'pure_images' : pure_sample ,\n",
    "      'images': sample,\n",
    "      'n_way': n_way,\n",
    "      'n_support': n_support,\n",
    "      'n_query': n_query\n",
    "      })"
   ]
  },
  {
   "cell_type": "code",
   "execution_count": 7,
   "metadata": {
    "colab": {},
    "colab_type": "code",
    "id": "ia3JLpQRu4fh"
   },
   "outputs": [],
   "source": [
    "def display_sample(sample):\n",
    "  \"\"\"\n",
    "  Displays sample in a grid\n",
    "  Args:\n",
    "      sample (torch.Tensor): sample of images to display\n",
    "  \"\"\"\n",
    "  #need 4D tensor to create grid, currently 5D\n",
    "  sample_4D = sample.view(sample.shape[0]*sample.shape[1],*sample.shape[2:])\n",
    "  #make a grid\n",
    "  out = torchvision.utils.make_grid(sample_4D, nrow=sample.shape[1])\n",
    "  plt.figure(figsize = (16,7))\n",
    "  plt.imshow(out.permute(1, 2, 0))"
   ]
  },
  {
   "cell_type": "markdown",
   "metadata": {
    "colab_type": "text",
    "id": "-uGq_ya4yG2K"
   },
   "source": [
    "As an example, let's pick a sample and display it\n",
    "\n",
    "*   n_way = 5\n",
    "*   n_support = 5\n",
    "*   n_query = 5\n",
    "\n",
    "\n"
   ]
  },
  {
   "cell_type": "code",
   "execution_count": 8,
   "metadata": {
    "colab": {
     "base_uri": "https://localhost:8080/",
     "height": 449
    },
    "colab_type": "code",
    "id": "lxOHvWfO1ApZ",
    "outputId": "b2a8c6f9-cb14-4ba1-d9df-198d69a6d30e"
   },
   "outputs": [
    {
     "name": "stderr",
     "output_type": "stream",
     "text": [
      "Clipping input data to the valid range for imshow with RGB data ([0..1] for floats or [0..255] for integers).\n"
     ]
    },
    {
     "data": {
      "image/png": "[encoded data removed]",
      "text/plain": [
       "<Figure size 1152x504 with 1 Axes>"
      ]
     },
     "metadata": {
      "needs_background": "light"
     },
     "output_type": "display_data"
    }
   ],
   "source": [
    "sample_example = extract_sample(5, 5, 5, trainx, trainy)\n",
    "display_sample(sample_example['images'])"
   ]
  },
  {
   "cell_type": "code",
   "execution_count": 9,
   "metadata": {
    "colab": {
     "base_uri": "https://localhost:8080/",
     "height": 34
    },
    "colab_type": "code",
    "id": "RhDNMyG8AjOB",
    "outputId": "e305d41f-4319-4290-ea59-821c3d1797ae"
   },
   "outputs": [
    {
     "data": {
      "text/plain": [
       "torch.Size([5, 10, 3, 28, 28])"
      ]
     },
     "execution_count": 9,
     "metadata": {},
     "output_type": "execute_result"
    }
   ],
   "source": [
    "sample_example['images'].shape"
   ]
  },
  {
   "cell_type": "markdown",
   "metadata": {
    "colab_type": "text",
    "id": "HbakTT_nFubI"
   },
   "source": [
    "##Build model"
   ]
  },
  {
   "cell_type": "markdown",
   "metadata": {
    "colab_type": "text",
    "id": "_-E6-_vvzXZw"
   },
   "source": [
    "Paper: [Prototypical Networks for Few-shot Learning](https://arxiv.org/pdf/1703.05175v2.pdf)"
   ]
  },
  {
   "cell_type": "markdown",
   "metadata": {
    "colab_type": "text",
    "id": "VuvH9joezgja"
   },
   "source": [
    "The embedding part takes a (28x28x1) image and returns a column vector of length 64. The image2vector function is composed of 4 modules. Each module comprises a 64-filter 3 × 3 convolution, a batch normalization layer, a ReLU nonlinearity and a 2 × 2 max-pooling layer. \n",
    "\n",
    "When applied to the 28 × 28 Omniglot images this architecture results in a 64-dimensional output space."
   ]
  },
  {
   "cell_type": "code",
   "execution_count": 10,
   "metadata": {
    "colab": {},
    "colab_type": "code",
    "id": "DBzAfRyJB-3X"
   },
   "outputs": [],
   "source": [
    "class Flatten(nn.Module):\n",
    "  def __init__(self):\n",
    "    super(Flatten, self).__init__()\n",
    "\n",
    "  def forward(self, x):\n",
    "    return x.view(x.size(0), -1)\n",
    "\n",
    "def load_protonet_conv(**kwargs):\n",
    "  \"\"\"\n",
    "  Loads the prototypical network model\n",
    "  Arg:\n",
    "      x_dim (tuple): dimension of input image\n",
    "      hid_dim (int): dimension of hidden layers in conv blocks\n",
    "      z_dim (int): dimension of embedded image\n",
    "  Returns:\n",
    "      Model (Class ProtoNet)\n",
    "  \"\"\"\n",
    "  x_dim = kwargs['x_dim']\n",
    "  hid_dim = kwargs['hid_dim']\n",
    "  z_dim = kwargs['z_dim']\n",
    "\n",
    "  def conv_block(in_channels, out_channels):\n",
    "    return nn.Sequential(\n",
    "        nn.Conv2d(in_channels, out_channels, 3, padding=1),\n",
    "        nn.BatchNorm2d(out_channels),\n",
    "#         nn.Dropout(0.2),\n",
    "        nn.ReLU(),\n",
    "        nn.MaxPool2d(2)\n",
    "        )\n",
    "    \n",
    "  encoder = nn.Sequential(\n",
    "    conv_block(x_dim[0], hid_dim),\n",
    "    conv_block(hid_dim, hid_dim),\n",
    "    conv_block(hid_dim, hid_dim),\n",
    "    conv_block(hid_dim, z_dim),\n",
    "    Flatten()\n",
    "    )\n",
    "    \n",
    "  return ProtoNet(encoder)"
   ]
  },
  {
   "cell_type": "code",
   "execution_count": 11,
   "metadata": {
    "colab": {},
    "colab_type": "code",
    "id": "FTjSYAz1WY5e"
   },
   "outputs": [],
   "source": [
    "class ProtoNet(nn.Module):\n",
    "  def __init__(self, encoder):\n",
    "    \"\"\"\n",
    "    Args:\n",
    "        encoder : CNN encoding the images in sample\n",
    "        n_way (int): number of classes in a classification task\n",
    "        n_support (int): number of labeled examples per class in the support set\n",
    "        n_query (int): number of labeled examples per class in the query set\n",
    "    \"\"\"\n",
    "    super(ProtoNet, self).__init__()\n",
    "    self.encoder = encoder\n",
    "\n",
    "  def set_forward_loss(self, sample):\n",
    "    \"\"\"\n",
    "    Computes loss, accuracy and output for classification task\n",
    "    Args:\n",
    "        sample (torch.Tensor): shape (n_way, n_support+n_query, (dim)) \n",
    "    Returns:\n",
    "        torch.Tensor: shape(2), loss, accuracy and y_hat\n",
    "    \"\"\"\n",
    "    sample_images = sample['images']\n",
    "    n_way = sample['n_way']\n",
    "    n_support = sample['n_support']\n",
    "    n_query = sample['n_query']\n",
    "\n",
    "    x_support = sample_images[:, :n_support]\n",
    "    x_query = sample_images[:, n_support:]\n",
    "   \n",
    "    #target indices are 0 ... n_way-1\n",
    "    target_inds = torch.arange(0, n_way).view(n_way, 1, 1).expand(n_way, n_query, 1).long()\n",
    "    target_inds = Variable(target_inds, requires_grad=False)\n",
    "    target_inds = target_inds\n",
    "   \n",
    "    #encode images of the support and the query set\n",
    "    x = torch.cat([x_support.contiguous().view(n_way * n_support, *x_support.size()[2:]),\n",
    "                   x_query.contiguous().view(n_way * n_query, *x_query.size()[2:])], 0)\n",
    "   \n",
    "    z = self.encoder.forward(x)\n",
    "    z_dim = z.size(-1) #usually 64\n",
    "    z_proto = z[:n_way*n_support].view(n_way, n_support, z_dim).mean(1)\n",
    "    z_query = z[n_way*n_support:]\n",
    "\n",
    "    #compute distances\n",
    "    dists = euclidean_dist(z_query, z_proto)\n",
    "    \n",
    "    #compute probabilities\n",
    "    log_p_y = F.log_softmax(-dists, dim=1).view(n_way, n_query, -1)\n",
    "   \n",
    "    loss_val = -log_p_y.gather(2, target_inds).squeeze().view(-1).mean()\n",
    "    _, y_hat = log_p_y.max(2)\n",
    "    acc_val = torch.eq(y_hat, target_inds.squeeze()).float().mean()\n",
    "   \n",
    "    return loss_val, {\n",
    "        'loss': loss_val.item(),\n",
    "        'acc': acc_val.item(),\n",
    "        'y_hat': y_hat\n",
    "        }"
   ]
  },
  {
   "cell_type": "code",
   "execution_count": 12,
   "metadata": {
    "colab": {},
    "colab_type": "code",
    "id": "Tjf4lqBFB_Ei"
   },
   "outputs": [],
   "source": [
    "def euclidean_dist(x, y):\n",
    "  \"\"\"\n",
    "  Computes euclidean distance btw x and y\n",
    "  Args:\n",
    "      x (torch.Tensor): shape (n, d). n usually n_way*n_query\n",
    "      y (torch.Tensor): shape (m, d). m usually n_way\n",
    "  Returns:\n",
    "      torch.Tensor: shape(n, m). For each query, the distances to each centroid\n",
    "  \"\"\"\n",
    "  n = x.size(0)\n",
    "  m = y.size(0)\n",
    "  d = x.size(1)\n",
    "  assert d == y.size(1)\n",
    "\n",
    "  x = x.unsqueeze(1).expand(n, m, d)\n",
    "  y = y.unsqueeze(0).expand(n, m, d)\n",
    "\n",
    "  return torch.pow(x - y, 2).sum(2)"
   ]
  },
  {
   "cell_type": "markdown",
   "metadata": {
    "colab_type": "text",
    "id": "0Fke38yY6pI9"
   },
   "source": [
    "##Train"
   ]
  },
  {
   "cell_type": "code",
   "execution_count": 22,
   "metadata": {
    "colab": {},
    "colab_type": "code",
    "id": "BnLOgECOKG_y"
   },
   "outputs": [],
   "source": [
    "def train(model, optimizer, train_x, train_y, n_way, n_support, n_query, max_epoch, epoch_size):\n",
    "  \"\"\"\n",
    "  Trains the protonet\n",
    "  Args:\n",
    "      model\n",
    "      optimizer\n",
    "      train_x (np.array): images of training set\n",
    "      train_y(np.array): labels of training set\n",
    "      n_way (int): number of classes in a classification task\n",
    "      n_support (int): number of labeled examples per class in the support set\n",
    "      n_query (int): number of labeled examples per class in the query set\n",
    "      max_epoch (int): max epochs to train on\n",
    "      epoch_size (int): episodes per epoch\n",
    "  \"\"\"\n",
    "  #divide the learning rate by 2 at each epoch, as suggested in paper\n",
    "  scheduler = optim.lr_scheduler.StepLR(optimizer, 1, gamma=0.5, last_epoch=-1)\n",
    "  epoch = 0 #epochs done so far\n",
    "  stop = False #status to know when to stop\n",
    "  history_loss = []\n",
    "  hisrtoy_acc = []\n",
    "  \n",
    "\n",
    "  while epoch < max_epoch and not stop:\n",
    "    running_loss = 0.0\n",
    "    running_acc = 0.0\n",
    "\n",
    "    for episode in tnrange(epoch_size, desc=\"Epoch {:d} train\".format(epoch+1)):\n",
    "      sample = extract_sample(n_way, n_support, n_query, train_x, train_y)\n",
    "      optimizer.zero_grad()\n",
    "      loss, output = model.set_forward_loss(sample)\n",
    "      running_loss += output['loss']\n",
    "      running_acc += output['acc']\n",
    "      loss.backward()\n",
    "      optimizer.step()\n",
    "    \n",
    "    epoch_loss = running_loss / epoch_size\n",
    "    epoch_acc = running_acc / epoch_size\n",
    "    print('Epoch {:d} -- Loss: {:.4f} Acc: {:.4f}'.format(epoch+1,epoch_loss, epoch_acc))\n",
    "    \n",
    "    history_loss.append(epoch_loss)\n",
    "    hisrtoy_acc.append(epoch_acc)\n",
    "\n",
    "    epoch += 1\n",
    "    scheduler.step()\n",
    "    \n",
    "    \n",
    "  plt.plot([ i for i in range(1, max_epoch +1)], history_loss, 'g', label='Training Loss')\n",
    "  plt.plot([ i for i in range(1, max_epoch +1)], hisrtoy_acc, 'b', label='Training accuracy')\n",
    "  plt.title(f\"Training Loss + Accuracy \\n with parameters n_support: {n_support},n_query: {n_query} \")\n",
    "  plt.xlabel('Epochs')\n",
    "  plt.ylabel('accuracy')\n",
    "  plt.legend()\n",
    "  plt.show()"
   ]
  },
  {
   "cell_type": "code",
   "execution_count": 36,
   "metadata": {
    "colab": {
     "base_uri": "https://localhost:8080/",
     "height": 415,
     "referenced_widgets": [
      "354ff4f3b4b345c7ad45baf14dd97697",
      "7c610bbed40d4fb39a0760b4df77eb11",
      "53a6eab0481641c9b343d046fd359bf2",
      "dec17b0625d2425185176b03d21b708d",
      "433334ef070a4ab1bfc6eece6b63be26",
      "3c2fa22131854ca2a7dfcec34d65af3b",
      "0f194ec785074660a9d6c770b21f46cc",
      "a9b59b5124194f71bb18fc7974cd83cf",
      "3ab3a4e2141b4ed39cc7d968408778ca",
      "4aa655fcf6c649af9de66384158f8c7c",
      "439f3b59d789406497d737c0b76c0156",
      "e3078c751ecc47438e93291fe5607aab",
      "ffad4c75083c4a0f8d98c5d38a1aba6d",
      "332c8800dc73423396e50c23030e8105",
      "afd69d485c10453a815faf5ead6c2b3f",
      "ca629333d0e2483c8f225b75202eaf3a",
      "6de2fbeb393949f297c34f756129e4d8",
      "62808217a43e4a3a87c8da4082b29801",
      "8fffaaff836540099e20a73f9f1f6abc",
      "fb3fb76cfab94e18950b7fa8280d6bfa",
      "6b8609a3fe9f467ea909cfe0b799da19",
      "f7adceb9304448959f8c3bf33f31e7b9",
      "07aef15d3b664adb8ffa4077ba205959",
      "581656713b1646959f70a3420fb75960",
      "bb5117fc52f6431abf7245060f2dd744",
      "f6376e0638cb4ba498ef5e7ad489cf8b",
      "46bb6b64cfa947e8922be526cfa4794b",
      "e4b1686fa03842269d519d582733589d",
      "e338741c7df649fa8e4e6d3f64a9f071",
      "4127de7c3f8a470e96c3cf1b863be977",
      "c196876b6b2745d7ba47cd3706fdf420",
      "7873a43a0ddb48d09f18c4d72b49c568",
      "c6bda37e4b0d42d682a70b496890f92f",
      "61783bd49f8844de812269790bc1041e",
      "2684d578ea46469ea0c42feaeab77fd1",
      "972ae0de8c254498aa37dd62cd604006",
      "5a8ead812af4455c9c1e8ada1b3209c5",
      "eacf30e249ac42daa5db07901bdbbe60",
      "5ffaebc261e946d29a141caaea4f5fdd",
      "0755d3d34cea44bb85d1a560618554b4"
     ]
    },
    "colab_type": "code",
    "id": "7uMy99qE-Ed6",
    "outputId": "381c6974-97a2-4d64-c849-04140e86f5fc",
    "scrolled": false
   },
   "outputs": [
    {
     "data": {
      "application/vnd.jupyter.widget-view+json": {
       "model_id": "b8f1b84160144646b1e8f5675809c195",
       "version_major": 2,
       "version_minor": 0
      },
      "text/plain": [
       "Epoch 1 train:   0%|          | 0/220 [00:00<?, ?it/s]"
      ]
     },
     "metadata": {},
     "output_type": "display_data"
    },
    {
     "name": "stdout",
     "output_type": "stream",
     "text": [
      "Epoch 1 -- Loss: 0.3102 Acc: 0.9121\n"
     ]
    },
    {
     "data": {
      "application/vnd.jupyter.widget-view+json": {
       "model_id": "662bf89828f6434387fe5cf89c4f000d",
       "version_major": 2,
       "version_minor": 0
      },
      "text/plain": [
       "Epoch 2 train:   0%|          | 0/220 [00:00<?, ?it/s]"
      ]
     },
     "metadata": {},
     "output_type": "display_data"
    },
    {
     "name": "stdout",
     "output_type": "stream",
     "text": [
      "Epoch 2 -- Loss: 0.1556 Acc: 0.9498\n"
     ]
    },
    {
     "data": {
      "application/vnd.jupyter.widget-view+json": {
       "model_id": "ed6f8ad08b2b4598b89fe6753d16ba9c",
       "version_major": 2,
       "version_minor": 0
      },
      "text/plain": [
       "Epoch 3 train:   0%|          | 0/220 [00:00<?, ?it/s]"
      ]
     },
     "metadata": {},
     "output_type": "display_data"
    },
    {
     "name": "stdout",
     "output_type": "stream",
     "text": [
      "Epoch 3 -- Loss: 0.1244 Acc: 0.9597\n"
     ]
    },
    {
     "data": {
      "application/vnd.jupyter.widget-view+json": {
       "model_id": "81331df1218e4f869f7f0e91b6f7a04d",
       "version_major": 2,
       "version_minor": 0
      },
      "text/plain": [
       "Epoch 4 train:   0%|          | 0/220 [00:00<?, ?it/s]"
      ]
     },
     "metadata": {},
     "output_type": "display_data"
    },
    {
     "name": "stdout",
     "output_type": "stream",
     "text": [
      "Epoch 4 -- Loss: 0.1131 Acc: 0.9629\n"
     ]
    },
    {
     "data": {
      "application/vnd.jupyter.widget-view+json": {
       "model_id": "ab59cd8598e441efbdedab7111d7d3b6",
       "version_major": 2,
       "version_minor": 0
      },
      "text/plain": [
       "Epoch 5 train:   0%|          | 0/220 [00:00<?, ?it/s]"
      ]
     },
     "metadata": {},
     "output_type": "display_data"
    },
    {
     "name": "stdout",
     "output_type": "stream",
     "text": [
      "Epoch 5 -- Loss: 0.1071 Acc: 0.9665\n"
     ]
    },
    {
     "data": {
      "image/png": "[encoded data removed]",
      "text/plain": [
       "<Figure size 432x288 with 1 Axes>"
      ]
     },
     "metadata": {
      "needs_background": "light"
     },
     "output_type": "display_data"
    },
    {
     "name": "stdout",
     "output_type": "stream",
     "text": [
      "Wall time: 14min 42s\n"
     ]
    }
   ],
   "source": [
    "%%time\n",
    "\n",
    "model = load_protonet_conv(\n",
    "    x_dim=(3,28,28),\n",
    "    hid_dim=64,\n",
    "    z_dim=64,\n",
    "    )\n",
    "\n",
    "optimizer = optim.Adam(model.parameters(), lr = 0.001)\n",
    "\n",
    "n_way = 5\n",
    "n_support = 100\n",
    "n_query = 10\n",
    "\n",
    "train_x = trainx\n",
    "train_y = trainy\n",
    "\n",
    "max_epoch = 5\n",
    "epoch_size = 220\n",
    "\n",
    "train(model, optimizer, train_x, train_y, n_way, 100, 10, max_epoch, epoch_size)"
   ]
  },
  {
   "cell_type": "markdown",
   "metadata": {
    "colab_type": "text",
    "id": "pJu50gOb8WxU"
   },
   "source": [
    "##Test"
   ]
  },
  {
   "cell_type": "code",
   "execution_count": 37,
   "metadata": {},
   "outputs": [],
   "source": [
    "from sklearn.metrics import log_loss\n",
    "from sklearn.neighbors import KNeighborsClassifier\n",
    "\n",
    "def test_on_KNN(sample, k=5):\n",
    "    \n",
    "    images = sample['pure_images']\n",
    "    n_way = sample['n_way']\n",
    "    n_support = sample['n_support']\n",
    "    n_query = sample['n_query']\n",
    "    labels = sample['labels']\n",
    "    \n",
    "    trainX, trainY, testX, testY = [], [], [], []\n",
    "\n",
    "\n",
    "    for cls_label, cls_img in zip(labels, images):\n",
    "\n",
    "        trainX += list(cls_img[:n_support].reshape(n_support, 28*28*3))\n",
    "        testX += list(cls_img[n_support:].reshape(n_query, 28*28*3))\n",
    "        \n",
    "        \n",
    "        trainY += list(cls_label[:n_support])\n",
    "        testY += list(cls_label[n_support:])\n",
    "        \n",
    "    # convert to numpy\n",
    "    trainX = np.array(trainX)\n",
    "    testX = np.array(testX)\n",
    "    \n",
    "    trainY = np.array(trainY)\n",
    "    testY = np.array(testY)\n",
    "    \n",
    "#     for img, label in zip(trainX, trainY):\n",
    "#         print(label)\n",
    "#         plt.imshow(img)\n",
    "#         plt.show()\n",
    "    \n",
    "    from sklearn.neighbors import KNeighborsClassifier\n",
    "    knn = KNeighborsClassifier(n_neighbors=k)\n",
    "\n",
    "    knn.fit(trainX, trainY)\n",
    "    knn_acc = knn.score(testX, testY)\n",
    "    \n",
    "    knn_loss = log_loss(testY, knn.predict_proba(testX))\n",
    "    \n",
    "    return knn_acc, knn_loss\n"
   ]
  },
  {
   "cell_type": "code",
   "execution_count": 38,
   "metadata": {},
   "outputs": [],
   "source": [
    "sample_example = extract_sample(2, 5, 5, trainx, trainy)\n",
    "knn_output = test_on_KNN(sample_example)"
   ]
  },
  {
   "cell_type": "code",
   "execution_count": 39,
   "metadata": {
    "colab": {},
    "colab_type": "code",
    "id": "qCgoOcCaERHH"
   },
   "outputs": [],
   "source": [
    "def test(model, test_x, test_y, n_way, n_support, n_query, test_episode, epoch_size):\n",
    "  \"\"\"\n",
    "  Tests the protonet\n",
    "  Args:\n",
    "      model: trained model\n",
    "      test_x (np.array): images of testing set\n",
    "      test_y (np.array): labels of testing set\n",
    "      n_way (int): number of classes in a classification task\n",
    "      n_support (int): number of labeled examples per class in the support set\n",
    "      n_query (int): number of labeled examples per class in the query set\n",
    "      test_episode (int): number of episodes to test on\n",
    "  \"\"\"\n",
    "  history_loss = []\n",
    "  hisrtoy_acc = []\n",
    "  epoch = 0 #epochs done so far\n",
    "  \n",
    "  knn_avg_loss, knn_avg_acc = [], []\n",
    "  knn_acc, knn_loss = 0, 0 \n",
    "    \n",
    "  while epoch < epoch_size:\n",
    "    running_loss = 0.0\n",
    "    running_acc = 0.0\n",
    "    knn_acc, knn_loss = 0, 0\n",
    "    for episode in tnrange(test_episode):\n",
    "      sample = extract_sample(n_way, n_support, n_query, test_x, test_y)\n",
    "      loss, output = model.set_forward_loss(sample)\n",
    "      running_loss += output['loss']\n",
    "      running_acc += output['acc']\n",
    "      \n",
    "      # compare to KNN\n",
    "      knn_output = test_on_KNN(sample)  \n",
    "      knn_acc += knn_output[0]\n",
    "      knn_loss += knn_output[1]   \n",
    "        \n",
    "        \n",
    "    avg_loss = running_loss / test_episode\n",
    "    avg_acc = running_acc / test_episode\n",
    "    \n",
    "    knn_avg_loss.append(knn_loss / test_episode)\n",
    "    knn_avg_acc.append(knn_acc / test_episode)\n",
    "    \n",
    "    history_loss.append(avg_loss)\n",
    "    hisrtoy_acc.append(avg_acc)\n",
    "    print('Protonet Test results -- Loss: {:.4f} Acc: {:.4f}'.format(avg_loss, avg_acc))\n",
    "    print('KNN Test results -- Loss: {:.4f} Acc: {:.4f}'.format(knn_avg_loss[-1], knn_avg_acc[-1]))\n",
    "    epoch += 1\n",
    "\n",
    "  plt.plot([ i for i in range(1, epoch_size +1)], history_loss, 'g', label='Protonet Test loss')\n",
    "  plt.plot([ i for i in range(1, epoch_size +1)], hisrtoy_acc, 'b', label='Protonet Test accuracy')\n",
    "    \n",
    "#   plt.plot([ i for i in range(1, max_epoch +1)], knn_avg_loss, 'r', label='KNN Test loss')\n",
    "  plt.plot([ i for i in range(1, epoch_size +1)], knn_avg_acc, 'black', label='KNN Test accuracy')\n",
    "    \n",
    "  plt.title(f\"Test Loss + Accuracy \\n with parameters n_support: {n_support}, n_query: {n_query} \")\n",
    "  plt.xlabel('Epochs')\n",
    "  plt.ylabel('accuracy')\n",
    "  plt.legend()\n",
    "  plt.show()\n",
    " "
   ]
  },
  {
   "cell_type": "code",
   "execution_count": 40,
   "metadata": {
    "colab": {
     "base_uri": "https://localhost:8080/",
     "height": 136,
     "referenced_widgets": [
      "3538da61a2cf40a59ec5df42b1e26a34",
      "0b8997593eda4dfc9d8864bb479600ea",
      "76f6236cddda43288fbe15c6cb9ca931",
      "3deca364207045bb910b85dd3cb8b95d",
      "452720b5c47c4f2591cc2474da697b5f",
      "8c13a9024b7645b7a556a750459aa40f",
      "5df809cf3af640e88e455d0270dbc646",
      "e0159f02b312472889bba9086f2cc881"
     ]
    },
    "colab_type": "code",
    "id": "yvyja6x3I6JB",
    "outputId": "3217c86f-5817-420e-d417-21a4af6546b9",
    "scrolled": false
   },
   "outputs": [
    {
     "data": {
      "application/vnd.jupyter.widget-view+json": {
       "model_id": "0e2c9911ca1243bc946b0975d6244d72",
       "version_major": 2,
       "version_minor": 0
      },
      "text/plain": [
       "  0%|          | 0/20 [00:00<?, ?it/s]"
      ]
     },
     "metadata": {},
     "output_type": "display_data"
    },
    {
     "name": "stdout",
     "output_type": "stream",
     "text": [
      "Protonet Test results -- Loss: 0.3222 Acc: 0.9010\n",
      "KNN Test results -- Loss: 1.6446 Acc: 0.8570\n"
     ]
    },
    {
     "data": {
      "application/vnd.jupyter.widget-view+json": {
       "model_id": "ad7cdd90e0c047de8fb6a76f04a75fd5",
       "version_major": 2,
       "version_minor": 0
      },
      "text/plain": [
       "  0%|          | 0/20 [00:00<?, ?it/s]"
      ]
     },
     "metadata": {},
     "output_type": "display_data"
    },
    {
     "name": "stdout",
     "output_type": "stream",
     "text": [
      "Protonet Test results -- Loss: 0.2834 Acc: 0.9060\n",
      "KNN Test results -- Loss: 1.4711 Acc: 0.8690\n"
     ]
    },
    {
     "data": {
      "application/vnd.jupyter.widget-view+json": {
       "model_id": "22de348b193a40ec900a537fee4cfbca",
       "version_major": 2,
       "version_minor": 0
      },
      "text/plain": [
       "  0%|          | 0/20 [00:00<?, ?it/s]"
      ]
     },
     "metadata": {},
     "output_type": "display_data"
    },
    {
     "name": "stdout",
     "output_type": "stream",
     "text": [
      "Protonet Test results -- Loss: 0.2938 Acc: 0.8920\n",
      "KNN Test results -- Loss: 1.5194 Acc: 0.8790\n"
     ]
    },
    {
     "data": {
      "application/vnd.jupyter.widget-view+json": {
       "model_id": "bf2d0e6c785f424d940ea9136343b157",
       "version_major": 2,
       "version_minor": 0
      },
      "text/plain": [
       "  0%|          | 0/20 [00:00<?, ?it/s]"
      ]
     },
     "metadata": {},
     "output_type": "display_data"
    },
    {
     "name": "stdout",
     "output_type": "stream",
     "text": [
      "Protonet Test results -- Loss: 0.3096 Acc: 0.8920\n",
      "KNN Test results -- Loss: 2.0049 Acc: 0.8630\n"
     ]
    },
    {
     "data": {
      "application/vnd.jupyter.widget-view+json": {
       "model_id": "e20b9c8381c64d86904e44cec1bf8d4c",
       "version_major": 2,
       "version_minor": 0
      },
      "text/plain": [
       "  0%|          | 0/20 [00:00<?, ?it/s]"
      ]
     },
     "metadata": {},
     "output_type": "display_data"
    },
    {
     "name": "stdout",
     "output_type": "stream",
     "text": [
      "Protonet Test results -- Loss: 0.2673 Acc: 0.9090\n",
      "KNN Test results -- Loss: 1.4433 Acc: 0.8860\n"
     ]
    },
    {
     "data": {
      "image/png": "[encoded data removed]",
      "text/plain": [
       "<Figure size 432x288 with 1 Axes>"
      ]
     },
     "metadata": {
      "needs_background": "light"
     },
     "output_type": "display_data"
    }
   ],
   "source": [
    "n_way = 5\n",
    "n_support = 200\n",
    "n_query = 20\n",
    "\n",
    "test_x = testx\n",
    "test_y = testy\n",
    "\n",
    "test_episode = 20\n",
    "epoch_size = 5\n",
    "test(model, test_x, test_y, n_way, 100, 10, test_episode, epoch_size)"
   ]
  },
  {
   "cell_type": "markdown",
   "metadata": {
    "colab_type": "text",
    "id": "nOH0sg_7EKUW"
   },
   "source": [
    "##Test on specific example"
   ]
  },
  {
   "cell_type": "markdown",
   "metadata": {
    "colab_type": "text",
    "id": "enVTmBdQJwsB"
   },
   "source": [
    "Let's test the model on a specific example to visualize how well does it label the data"
   ]
  },
  {
   "cell_type": "code",
   "execution_count": 19,
   "metadata": {
    "colab": {
     "base_uri": "https://localhost:8080/",
     "height": 448
    },
    "colab_type": "code",
    "id": "eO8PcZ_F0ZWc",
    "outputId": "7bd3921e-7dad-497f-abd9-5b9a042f44ec"
   },
   "outputs": [
    {
     "name": "stderr",
     "output_type": "stream",
     "text": [
      "Clipping input data to the valid range for imshow with RGB data ([0..1] for floats or [0..255] for integers).\n"
     ]
    },
    {
     "data": {
      "image/png": "[encoded data removed]",
      "text/plain": [
       "<Figure size 1152x504 with 1 Axes>"
      ]
     },
     "metadata": {
      "needs_background": "light"
     },
     "output_type": "display_data"
    }
   ],
   "source": [
    "my_sample = extract_sample(n_way, n_support, n_query, test_x, test_y)\n",
    "display_sample(my_sample['images'])"
   ]
  },
  {
   "cell_type": "code",
   "execution_count": 20,
   "metadata": {
    "colab": {},
    "colab_type": "code",
    "id": "6J6LIrsZ0xoU"
   },
   "outputs": [],
   "source": [
    "my_loss, my_output = model.set_forward_loss(my_sample)"
   ]
  },
  {
   "cell_type": "code",
   "execution_count": 21,
   "metadata": {
    "colab": {
     "base_uri": "https://localhost:8080/",
     "height": 101
    },
    "colab_type": "code",
    "id": "0SZ3N2n--LQX",
    "outputId": "23a150d0-ddfd-4c06-840f-0d01ed0575c1"
   },
   "outputs": [
    {
     "data": {
      "text/plain": [
       "{'loss': 0.5375621318817139,\n",
       " 'acc': 0.7200000286102295,\n",
       " 'y_hat': tensor([[0, 0, 0, 0, 0],\n",
       "         [1, 1, 2, 3, 1],\n",
       "         [1, 1, 1, 1, 2],\n",
       "         [3, 3, 3, 3, 3],\n",
       "         [4, 4, 4, 4, 1]])}"
      ]
     },
     "execution_count": 21,
     "metadata": {},
     "output_type": "execute_result"
    }
   ],
   "source": [
    "my_output"
   ]
  },
  {
   "cell_type": "code",
   "execution_count": null,
   "metadata": {},
   "outputs": [],
   "source": []
  }
 ],
 "metadata": {
  "accelerator": "GPU",
  "colab": {
   "authorship_tag": "ABX9TyPAtXl90T5jDI8j5NvKrhdF",
   "collapsed_sections": [],
   "include_colab_link": true,
   "name": "prototypical_networks_pytorch_omniglot.ipynb",
   "provenance": [],
   "toc_visible": true
  },
  "kernelspec": {
   "display_name": "Python 3",
   "language": "python",
   "name": "python3"
  },
  "language_info": {
   "codemirror_mode": {
    "name": "ipython",
    "version": 3
   },
   "file_extension": ".py",
   "mimetype": "text/x-python",
   "name": "python",
   "nbconvert_exporter": "python",
   "pygments_lexer": "ipython3",
   "version": "3.8.8"
  },
  "widgets": {
   "application/vnd.jupyter.widget-state+json": {
    "0755d3d34cea44bb85d1a560618554b4": {
     "model_module": "@jupyter-widgets/base",
     "model_name": "LayoutModel",
     "state": {
      "_model_module": "@jupyter-widgets/base",
      "_model_module_version": "1.2.0",
      "_model_name": "LayoutModel",
      "_view_count": null,
      "_view_module": "@jupyter-widgets/base",
      "_view_module_version": "1.2.0",
      "_view_name": "LayoutView",
      "align_content": null,
      "align_items": null,
      "align_self": null,
      "border": null,
      "bottom": null,
      "display": null,
      "flex": null,
      "flex_flow": null,
      "grid_area": null,
      "grid_auto_columns": null,
      "grid_auto_flow": null,
      "grid_auto_rows": null,
      "grid_column": null,
      "grid_gap": null,
      "grid_row": null,
      "grid_template_areas": null,
      "grid_template_columns": null,
      "grid_template_rows": null,
      "height": null,
      "justify_content": null,
      "justify_items": null,
      "left": null,
      "margin": null,
      "max_height": null,
      "max_width": null,
      "min_height": null,
      "min_width": null,
      "object_fit": null,
      "object_position": null,
      "order": null,
      "overflow": null,
      "overflow_x": null,
      "overflow_y": null,
      "padding": null,
      "right": null,
      "top": null,
      "visibility": null,
      "width": null
     }
    },
    "07aef15d3b664adb8ffa4077ba205959": {
     "model_module": "@jupyter-widgets/controls",
     "model_name": "DescriptionStyleModel",
     "state": {
      "_model_module": "@jupyter-widgets/controls",
      "_model_module_version": "1.5.0",
      "_model_name": "DescriptionStyleModel",
      "_view_count": null,
      "_view_module": "@jupyter-widgets/base",
      "_view_module_version": "1.2.0",
      "_view_name": "StyleView",
      "description_width": ""
     }
    },
    "0b8997593eda4dfc9d8864bb479600ea": {
     "model_module": "@jupyter-widgets/base",
     "model_name": "LayoutModel",
     "state": {
      "_model_module": "@jupyter-widgets/base",
      "_model_module_version": "1.2.0",
      "_model_name": "LayoutModel",
      "_view_count": null,
      "_view_module": "@jupyter-widgets/base",
      "_view_module_version": "1.2.0",
      "_view_name": "LayoutView",
      "align_content": null,
      "align_items": null,
      "align_self": null,
      "border": null,
      "bottom": null,
      "display": null,
      "flex": null,
      "flex_flow": null,
      "grid_area": null,
      "grid_auto_columns": null,
      "grid_auto_flow": null,
      "grid_auto_rows": null,
      "grid_column": null,
      "grid_gap": null,
      "grid_row": null,
      "grid_template_areas": null,
      "grid_template_columns": null,
      "grid_template_rows": null,
      "height": null,
      "justify_content": null,
      "justify_items": null,
      "left": null,
      "margin": null,
      "max_height": null,
      "max_width": null,
      "min_height": null,
      "min_width": null,
      "object_fit": null,
      "object_position": null,
      "order": null,
      "overflow": null,
      "overflow_x": null,
      "overflow_y": null,
      "padding": null,
      "right": null,
      "top": null,
      "visibility": null,
      "width": null
     }
    },
    "0f194ec785074660a9d6c770b21f46cc": {
     "model_module": "@jupyter-widgets/controls",
     "model_name": "DescriptionStyleModel",
     "state": {
      "_model_module": "@jupyter-widgets/controls",
      "_model_module_version": "1.5.0",
      "_model_name": "DescriptionStyleModel",
      "_view_count": null,
      "_view_module": "@jupyter-widgets/base",
      "_view_module_version": "1.2.0",
      "_view_name": "StyleView",
      "description_width": ""
     }
    },
    "2684d578ea46469ea0c42feaeab77fd1": {
     "model_module": "@jupyter-widgets/controls",
     "model_name": "FloatProgressModel",
     "state": {
      "_dom_classes": [],
      "_model_module": "@jupyter-widgets/controls",
      "_model_module_version": "1.5.0",
      "_model_name": "FloatProgressModel",
      "_view_count": null,
      "_view_module": "@jupyter-widgets/controls",
      "_view_module_version": "1.5.0",
      "_view_name": "ProgressView",
      "bar_style": "success",
      "description": "Epoch 5 train: 100%",
      "description_tooltip": null,
      "layout": "IPY_MODEL_eacf30e249ac42daa5db07901bdbbe60",
      "max": 2000,
      "min": 0,
      "orientation": "horizontal",
      "style": "IPY_MODEL_5a8ead812af4455c9c1e8ada1b3209c5",
      "value": 2000
     }
    },
    "332c8800dc73423396e50c23030e8105": {
     "model_module": "@jupyter-widgets/base",
     "model_name": "LayoutModel",
     "state": {
      "_model_module": "@jupyter-widgets/base",
      "_model_module_version": "1.2.0",
      "_model_name": "LayoutModel",
      "_view_count": null,
      "_view_module": "@jupyter-widgets/base",
      "_view_module_version": "1.2.0",
      "_view_name": "LayoutView",
      "align_content": null,
      "align_items": null,
      "align_self": null,
      "border": null,
      "bottom": null,
      "display": null,
      "flex": null,
      "flex_flow": null,
      "grid_area": null,
      "grid_auto_columns": null,
      "grid_auto_flow": null,
      "grid_auto_rows": null,
      "grid_column": null,
      "grid_gap": null,
      "grid_row": null,
      "grid_template_areas": null,
      "grid_template_columns": null,
      "grid_template_rows": null,
      "height": null,
      "justify_content": null,
      "justify_items": null,
      "left": null,
      "margin": null,
      "max_height": null,
      "max_width": null,
      "min_height": null,
      "min_width": null,
      "object_fit": null,
      "object_position": null,
      "order": null,
      "overflow": null,
      "overflow_x": null,
      "overflow_y": null,
      "padding": null,
      "right": null,
      "top": null,
      "visibility": null,
      "width": null
     }
    },
    "3538da61a2cf40a59ec5df42b1e26a34": {
     "model_module": "@jupyter-widgets/controls",
     "model_name": "HBoxModel",
     "state": {
      "_dom_classes": [],
      "_model_module": "@jupyter-widgets/controls",
      "_model_module_version": "1.5.0",
      "_model_name": "HBoxModel",
      "_view_count": null,
      "_view_module": "@jupyter-widgets/controls",
      "_view_module_version": "1.5.0",
      "_view_name": "HBoxView",
      "box_style": "",
      "children": [
       "IPY_MODEL_76f6236cddda43288fbe15c6cb9ca931",
       "IPY_MODEL_3deca364207045bb910b85dd3cb8b95d"
      ],
      "layout": "IPY_MODEL_0b8997593eda4dfc9d8864bb479600ea"
     }
    },
    "354ff4f3b4b345c7ad45baf14dd97697": {
     "model_module": "@jupyter-widgets/controls",
     "model_name": "HBoxModel",
     "state": {
      "_dom_classes": [],
      "_model_module": "@jupyter-widgets/controls",
      "_model_module_version": "1.5.0",
      "_model_name": "HBoxModel",
      "_view_count": null,
      "_view_module": "@jupyter-widgets/controls",
      "_view_module_version": "1.5.0",
      "_view_name": "HBoxView",
      "box_style": "",
      "children": [
       "IPY_MODEL_53a6eab0481641c9b343d046fd359bf2",
       "IPY_MODEL_dec17b0625d2425185176b03d21b708d"
      ],
      "layout": "IPY_MODEL_7c610bbed40d4fb39a0760b4df77eb11"
     }
    },
    "3ab3a4e2141b4ed39cc7d968408778ca": {
     "model_module": "@jupyter-widgets/controls",
     "model_name": "HBoxModel",
     "state": {
      "_dom_classes": [],
      "_model_module": "@jupyter-widgets/controls",
      "_model_module_version": "1.5.0",
      "_model_name": "HBoxModel",
      "_view_count": null,
      "_view_module": "@jupyter-widgets/controls",
      "_view_module_version": "1.5.0",
      "_view_name": "HBoxView",
      "box_style": "",
      "children": [
       "IPY_MODEL_439f3b59d789406497d737c0b76c0156",
       "IPY_MODEL_e3078c751ecc47438e93291fe5607aab"
      ],
      "layout": "IPY_MODEL_4aa655fcf6c649af9de66384158f8c7c"
     }
    },
    "3c2fa22131854ca2a7dfcec34d65af3b": {
     "model_module": "@jupyter-widgets/base",
     "model_name": "LayoutModel",
     "state": {
      "_model_module": "@jupyter-widgets/base",
      "_model_module_version": "1.2.0",
      "_model_name": "LayoutModel",
      "_view_count": null,
      "_view_module": "@jupyter-widgets/base",
      "_view_module_version": "1.2.0",
      "_view_name": "LayoutView",
      "align_content": null,
      "align_items": null,
      "align_self": null,
      "border": null,
      "bottom": null,
      "display": null,
      "flex": null,
      "flex_flow": null,
      "grid_area": null,
      "grid_auto_columns": null,
      "grid_auto_flow": null,
      "grid_auto_rows": null,
      "grid_column": null,
      "grid_gap": null,
      "grid_row": null,
      "grid_template_areas": null,
      "grid_template_columns": null,
      "grid_template_rows": null,
      "height": null,
      "justify_content": null,
      "justify_items": null,
      "left": null,
      "margin": null,
      "max_height": null,
      "max_width": null,
      "min_height": null,
      "min_width": null,
      "object_fit": null,
      "object_position": null,
      "order": null,
      "overflow": null,
      "overflow_x": null,
      "overflow_y": null,
      "padding": null,
      "right": null,
      "top": null,
      "visibility": null,
      "width": null
     }
    },
    "3deca364207045bb910b85dd3cb8b95d": {
     "model_module": "@jupyter-widgets/controls",
     "model_name": "HTMLModel",
     "state": {
      "_dom_classes": [],
      "_model_module": "@jupyter-widgets/controls",
      "_model_module_version": "1.5.0",
      "_model_name": "HTMLModel",
      "_view_count": null,
      "_view_module": "@jupyter-widgets/controls",
      "_view_module_version": "1.5.0",
      "_view_name": "HTMLView",
      "description": "",
      "description_tooltip": null,
      "layout": "IPY_MODEL_e0159f02b312472889bba9086f2cc881",
      "placeholder": "​",
      "style": "IPY_MODEL_5df809cf3af640e88e455d0270dbc646",
      "value": " 1000/1000 [22:56&lt;00:00,  1.38s/it]"
     }
    },
    "4127de7c3f8a470e96c3cf1b863be977": {
     "model_module": "@jupyter-widgets/base",
     "model_name": "LayoutModel",
     "state": {
      "_model_module": "@jupyter-widgets/base",
      "_model_module_version": "1.2.0",
      "_model_name": "LayoutModel",
      "_view_count": null,
      "_view_module": "@jupyter-widgets/base",
      "_view_module_version": "1.2.0",
      "_view_name": "LayoutView",
      "align_content": null,
      "align_items": null,
      "align_self": null,
      "border": null,
      "bottom": null,
      "display": null,
      "flex": null,
      "flex_flow": null,
      "grid_area": null,
      "grid_auto_columns": null,
      "grid_auto_flow": null,
      "grid_auto_rows": null,
      "grid_column": null,
      "grid_gap": null,
      "grid_row": null,
      "grid_template_areas": null,
      "grid_template_columns": null,
      "grid_template_rows": null,
      "height": null,
      "justify_content": null,
      "justify_items": null,
      "left": null,
      "margin": null,
      "max_height": null,
      "max_width": null,
      "min_height": null,
      "min_width": null,
      "object_fit": null,
      "object_position": null,
      "order": null,
      "overflow": null,
      "overflow_x": null,
      "overflow_y": null,
      "padding": null,
      "right": null,
      "top": null,
      "visibility": null,
      "width": null
     }
    },
    "433334ef070a4ab1bfc6eece6b63be26": {
     "model_module": "@jupyter-widgets/controls",
     "model_name": "ProgressStyleModel",
     "state": {
      "_model_module": "@jupyter-widgets/controls",
      "_model_module_version": "1.5.0",
      "_model_name": "ProgressStyleModel",
      "_view_count": null,
      "_view_module": "@jupyter-widgets/base",
      "_view_module_version": "1.2.0",
      "_view_name": "StyleView",
      "bar_color": null,
      "description_width": "initial"
     }
    },
    "439f3b59d789406497d737c0b76c0156": {
     "model_module": "@jupyter-widgets/controls",
     "model_name": "FloatProgressModel",
     "state": {
      "_dom_classes": [],
      "_model_module": "@jupyter-widgets/controls",
      "_model_module_version": "1.5.0",
      "_model_name": "FloatProgressModel",
      "_view_count": null,
      "_view_module": "@jupyter-widgets/controls",
      "_view_module_version": "1.5.0",
      "_view_name": "ProgressView",
      "bar_style": "success",
      "description": "Epoch 2 train: 100%",
      "description_tooltip": null,
      "layout": "IPY_MODEL_332c8800dc73423396e50c23030e8105",
      "max": 2000,
      "min": 0,
      "orientation": "horizontal",
      "style": "IPY_MODEL_ffad4c75083c4a0f8d98c5d38a1aba6d",
      "value": 2000
     }
    },
    "452720b5c47c4f2591cc2474da697b5f": {
     "model_module": "@jupyter-widgets/controls",
     "model_name": "ProgressStyleModel",
     "state": {
      "_model_module": "@jupyter-widgets/controls",
      "_model_module_version": "1.5.0",
      "_model_name": "ProgressStyleModel",
      "_view_count": null,
      "_view_module": "@jupyter-widgets/base",
      "_view_module_version": "1.2.0",
      "_view_name": "StyleView",
      "bar_color": null,
      "description_width": "initial"
     }
    },
    "46bb6b64cfa947e8922be526cfa4794b": {
     "model_module": "@jupyter-widgets/controls",
     "model_name": "FloatProgressModel",
     "state": {
      "_dom_classes": [],
      "_model_module": "@jupyter-widgets/controls",
      "_model_module_version": "1.5.0",
      "_model_name": "FloatProgressModel",
      "_view_count": null,
      "_view_module": "@jupyter-widgets/controls",
      "_view_module_version": "1.5.0",
      "_view_name": "ProgressView",
      "bar_style": "success",
      "description": "Epoch 4 train: 100%",
      "description_tooltip": null,
      "layout": "IPY_MODEL_4127de7c3f8a470e96c3cf1b863be977",
      "max": 2000,
      "min": 0,
      "orientation": "horizontal",
      "style": "IPY_MODEL_e338741c7df649fa8e4e6d3f64a9f071",
      "value": 2000
     }
    },
    "4aa655fcf6c649af9de66384158f8c7c": {
     "model_module": "@jupyter-widgets/base",
     "model_name": "LayoutModel",
     "state": {
      "_model_module": "@jupyter-widgets/base",
      "_model_module_version": "1.2.0",
      "_model_name": "LayoutModel",
      "_view_count": null,
      "_view_module": "@jupyter-widgets/base",
      "_view_module_version": "1.2.0",
      "_view_name": "LayoutView",
      "align_content": null,
      "align_items": null,
      "align_self": null,
      "border": null,
      "bottom": null,
      "display": null,
      "flex": null,
      "flex_flow": null,
      "grid_area": null,
      "grid_auto_columns": null,
      "grid_auto_flow": null,
      "grid_auto_rows": null,
      "grid_column": null,
      "grid_gap": null,
      "grid_row": null,
      "grid_template_areas": null,
      "grid_template_columns": null,
      "grid_template_rows": null,
      "height": null,
      "justify_content": null,
      "justify_items": null,
      "left": null,
      "margin": null,
      "max_height": null,
      "max_width": null,
      "min_height": null,
      "min_width": null,
      "object_fit": null,
      "object_position": null,
      "order": null,
      "overflow": null,
      "overflow_x": null,
      "overflow_y": null,
      "padding": null,
      "right": null,
      "top": null,
      "visibility": null,
      "width": null
     }
    },
    "53a6eab0481641c9b343d046fd359bf2": {
     "model_module": "@jupyter-widgets/controls",
     "model_name": "FloatProgressModel",
     "state": {
      "_dom_classes": [],
      "_model_module": "@jupyter-widgets/controls",
      "_model_module_version": "1.5.0",
      "_model_name": "FloatProgressModel",
      "_view_count": null,
      "_view_module": "@jupyter-widgets/controls",
      "_view_module_version": "1.5.0",
      "_view_name": "ProgressView",
      "bar_style": "success",
      "description": "Epoch 1 train: 100%",
      "description_tooltip": null,
      "layout": "IPY_MODEL_3c2fa22131854ca2a7dfcec34d65af3b",
      "max": 2000,
      "min": 0,
      "orientation": "horizontal",
      "style": "IPY_MODEL_433334ef070a4ab1bfc6eece6b63be26",
      "value": 2000
     }
    },
    "581656713b1646959f70a3420fb75960": {
     "model_module": "@jupyter-widgets/base",
     "model_name": "LayoutModel",
     "state": {
      "_model_module": "@jupyter-widgets/base",
      "_model_module_version": "1.2.0",
      "_model_name": "LayoutModel",
      "_view_count": null,
      "_view_module": "@jupyter-widgets/base",
      "_view_module_version": "1.2.0",
      "_view_name": "LayoutView",
      "align_content": null,
      "align_items": null,
      "align_self": null,
      "border": null,
      "bottom": null,
      "display": null,
      "flex": null,
      "flex_flow": null,
      "grid_area": null,
      "grid_auto_columns": null,
      "grid_auto_flow": null,
      "grid_auto_rows": null,
      "grid_column": null,
      "grid_gap": null,
      "grid_row": null,
      "grid_template_areas": null,
      "grid_template_columns": null,
      "grid_template_rows": null,
      "height": null,
      "justify_content": null,
      "justify_items": null,
      "left": null,
      "margin": null,
      "max_height": null,
      "max_width": null,
      "min_height": null,
      "min_width": null,
      "object_fit": null,
      "object_position": null,
      "order": null,
      "overflow": null,
      "overflow_x": null,
      "overflow_y": null,
      "padding": null,
      "right": null,
      "top": null,
      "visibility": null,
      "width": null
     }
    },
    "5a8ead812af4455c9c1e8ada1b3209c5": {
     "model_module": "@jupyter-widgets/controls",
     "model_name": "ProgressStyleModel",
     "state": {
      "_model_module": "@jupyter-widgets/controls",
      "_model_module_version": "1.5.0",
      "_model_name": "ProgressStyleModel",
      "_view_count": null,
      "_view_module": "@jupyter-widgets/base",
      "_view_module_version": "1.2.0",
      "_view_name": "StyleView",
      "bar_color": null,
      "description_width": "initial"
     }
    },
    "5df809cf3af640e88e455d0270dbc646": {
     "model_module": "@jupyter-widgets/controls",
     "model_name": "DescriptionStyleModel",
     "state": {
      "_model_module": "@jupyter-widgets/controls",
      "_model_module_version": "1.5.0",
      "_model_name": "DescriptionStyleModel",
      "_view_count": null,
      "_view_module": "@jupyter-widgets/base",
      "_view_module_version": "1.2.0",
      "_view_name": "StyleView",
      "description_width": ""
     }
    },
    "5ffaebc261e946d29a141caaea4f5fdd": {
     "model_module": "@jupyter-widgets/controls",
     "model_name": "DescriptionStyleModel",
     "state": {
      "_model_module": "@jupyter-widgets/controls",
      "_model_module_version": "1.5.0",
      "_model_name": "DescriptionStyleModel",
      "_view_count": null,
      "_view_module": "@jupyter-widgets/base",
      "_view_module_version": "1.2.0",
      "_view_name": "StyleView",
      "description_width": ""
     }
    },
    "61783bd49f8844de812269790bc1041e": {
     "model_module": "@jupyter-widgets/base",
     "model_name": "LayoutModel",
     "state": {
      "_model_module": "@jupyter-widgets/base",
      "_model_module_version": "1.2.0",
      "_model_name": "LayoutModel",
      "_view_count": null,
      "_view_module": "@jupyter-widgets/base",
      "_view_module_version": "1.2.0",
      "_view_name": "LayoutView",
      "align_content": null,
      "align_items": null,
      "align_self": null,
      "border": null,
      "bottom": null,
      "display": null,
      "flex": null,
      "flex_flow": null,
      "grid_area": null,
      "grid_auto_columns": null,
      "grid_auto_flow": null,
      "grid_auto_rows": null,
      "grid_column": null,
      "grid_gap": null,
      "grid_row": null,
      "grid_template_areas": null,
      "grid_template_columns": null,
      "grid_template_rows": null,
      "height": null,
      "justify_content": null,
      "justify_items": null,
      "left": null,
      "margin": null,
      "max_height": null,
      "max_width": null,
      "min_height": null,
      "min_width": null,
      "object_fit": null,
      "object_position": null,
      "order": null,
      "overflow": null,
      "overflow_x": null,
      "overflow_y": null,
      "padding": null,
      "right": null,
      "top": null,
      "visibility": null,
      "width": null
     }
    },
    "62808217a43e4a3a87c8da4082b29801": {
     "model_module": "@jupyter-widgets/base",
     "model_name": "LayoutModel",
     "state": {
      "_model_module": "@jupyter-widgets/base",
      "_model_module_version": "1.2.0",
      "_model_name": "LayoutModel",
      "_view_count": null,
      "_view_module": "@jupyter-widgets/base",
      "_view_module_version": "1.2.0",
      "_view_name": "LayoutView",
      "align_content": null,
      "align_items": null,
      "align_self": null,
      "border": null,
      "bottom": null,
      "display": null,
      "flex": null,
      "flex_flow": null,
      "grid_area": null,
      "grid_auto_columns": null,
      "grid_auto_flow": null,
      "grid_auto_rows": null,
      "grid_column": null,
      "grid_gap": null,
      "grid_row": null,
      "grid_template_areas": null,
      "grid_template_columns": null,
      "grid_template_rows": null,
      "height": null,
      "justify_content": null,
      "justify_items": null,
      "left": null,
      "margin": null,
      "max_height": null,
      "max_width": null,
      "min_height": null,
      "min_width": null,
      "object_fit": null,
      "object_position": null,
      "order": null,
      "overflow": null,
      "overflow_x": null,
      "overflow_y": null,
      "padding": null,
      "right": null,
      "top": null,
      "visibility": null,
      "width": null
     }
    },
    "6b8609a3fe9f467ea909cfe0b799da19": {
     "model_module": "@jupyter-widgets/controls",
     "model_name": "ProgressStyleModel",
     "state": {
      "_model_module": "@jupyter-widgets/controls",
      "_model_module_version": "1.5.0",
      "_model_name": "ProgressStyleModel",
      "_view_count": null,
      "_view_module": "@jupyter-widgets/base",
      "_view_module_version": "1.2.0",
      "_view_name": "StyleView",
      "bar_color": null,
      "description_width": "initial"
     }
    },
    "6de2fbeb393949f297c34f756129e4d8": {
     "model_module": "@jupyter-widgets/controls",
     "model_name": "HBoxModel",
     "state": {
      "_dom_classes": [],
      "_model_module": "@jupyter-widgets/controls",
      "_model_module_version": "1.5.0",
      "_model_name": "HBoxModel",
      "_view_count": null,
      "_view_module": "@jupyter-widgets/controls",
      "_view_module_version": "1.5.0",
      "_view_name": "HBoxView",
      "box_style": "",
      "children": [
       "IPY_MODEL_8fffaaff836540099e20a73f9f1f6abc",
       "IPY_MODEL_fb3fb76cfab94e18950b7fa8280d6bfa"
      ],
      "layout": "IPY_MODEL_62808217a43e4a3a87c8da4082b29801"
     }
    },
    "76f6236cddda43288fbe15c6cb9ca931": {
     "model_module": "@jupyter-widgets/controls",
     "model_name": "FloatProgressModel",
     "state": {
      "_dom_classes": [],
      "_model_module": "@jupyter-widgets/controls",
      "_model_module_version": "1.5.0",
      "_model_name": "FloatProgressModel",
      "_view_count": null,
      "_view_module": "@jupyter-widgets/controls",
      "_view_module_version": "1.5.0",
      "_view_name": "ProgressView",
      "bar_style": "success",
      "description": "100%",
      "description_tooltip": null,
      "layout": "IPY_MODEL_8c13a9024b7645b7a556a750459aa40f",
      "max": 1000,
      "min": 0,
      "orientation": "horizontal",
      "style": "IPY_MODEL_452720b5c47c4f2591cc2474da697b5f",
      "value": 1000
     }
    },
    "7873a43a0ddb48d09f18c4d72b49c568": {
     "model_module": "@jupyter-widgets/base",
     "model_name": "LayoutModel",
     "state": {
      "_model_module": "@jupyter-widgets/base",
      "_model_module_version": "1.2.0",
      "_model_name": "LayoutModel",
      "_view_count": null,
      "_view_module": "@jupyter-widgets/base",
      "_view_module_version": "1.2.0",
      "_view_name": "LayoutView",
      "align_content": null,
      "align_items": null,
      "align_self": null,
      "border": null,
      "bottom": null,
      "display": null,
      "flex": null,
      "flex_flow": null,
      "grid_area": null,
      "grid_auto_columns": null,
      "grid_auto_flow": null,
      "grid_auto_rows": null,
      "grid_column": null,
      "grid_gap": null,
      "grid_row": null,
      "grid_template_areas": null,
      "grid_template_columns": null,
      "grid_template_rows": null,
      "height": null,
      "justify_content": null,
      "justify_items": null,
      "left": null,
      "margin": null,
      "max_height": null,
      "max_width": null,
      "min_height": null,
      "min_width": null,
      "object_fit": null,
      "object_position": null,
      "order": null,
      "overflow": null,
      "overflow_x": null,
      "overflow_y": null,
      "padding": null,
      "right": null,
      "top": null,
      "visibility": null,
      "width": null
     }
    },
    "7c610bbed40d4fb39a0760b4df77eb11": {
     "model_module": "@jupyter-widgets/base",
     "model_name": "LayoutModel",
     "state": {
      "_model_module": "@jupyter-widgets/base",
      "_model_module_version": "1.2.0",
      "_model_name": "LayoutModel",
      "_view_count": null,
      "_view_module": "@jupyter-widgets/base",
      "_view_module_version": "1.2.0",
      "_view_name": "LayoutView",
      "align_content": null,
      "align_items": null,
      "align_self": null,
      "border": null,
      "bottom": null,
      "display": null,
      "flex": null,
      "flex_flow": null,
      "grid_area": null,
      "grid_auto_columns": null,
      "grid_auto_flow": null,
      "grid_auto_rows": null,
      "grid_column": null,
      "grid_gap": null,
      "grid_row": null,
      "grid_template_areas": null,
      "grid_template_columns": null,
      "grid_template_rows": null,
      "height": null,
      "justify_content": null,
      "justify_items": null,
      "left": null,
      "margin": null,
      "max_height": null,
      "max_width": null,
      "min_height": null,
      "min_width": null,
      "object_fit": null,
      "object_position": null,
      "order": null,
      "overflow": null,
      "overflow_x": null,
      "overflow_y": null,
      "padding": null,
      "right": null,
      "top": null,
      "visibility": null,
      "width": null
     }
    },
    "8c13a9024b7645b7a556a750459aa40f": {
     "model_module": "@jupyter-widgets/base",
     "model_name": "LayoutModel",
     "state": {
      "_model_module": "@jupyter-widgets/base",
      "_model_module_version": "1.2.0",
      "_model_name": "LayoutModel",
      "_view_count": null,
      "_view_module": "@jupyter-widgets/base",
      "_view_module_version": "1.2.0",
      "_view_name": "LayoutView",
      "align_content": null,
      "align_items": null,
      "align_self": null,
      "border": null,
      "bottom": null,
      "display": null,
      "flex": null,
      "flex_flow": null,
      "grid_area": null,
      "grid_auto_columns": null,
      "grid_auto_flow": null,
      "grid_auto_rows": null,
      "grid_column": null,
      "grid_gap": null,
      "grid_row": null,
      "grid_template_areas": null,
      "grid_template_columns": null,
      "grid_template_rows": null,
      "height": null,
      "justify_content": null,
      "justify_items": null,
      "left": null,
      "margin": null,
      "max_height": null,
      "max_width": null,
      "min_height": null,
      "min_width": null,
      "object_fit": null,
      "object_position": null,
      "order": null,
      "overflow": null,
      "overflow_x": null,
      "overflow_y": null,
      "padding": null,
      "right": null,
      "top": null,
      "visibility": null,
      "width": null
     }
    },
    "8fffaaff836540099e20a73f9f1f6abc": {
     "model_module": "@jupyter-widgets/controls",
     "model_name": "FloatProgressModel",
     "state": {
      "_dom_classes": [],
      "_model_module": "@jupyter-widgets/controls",
      "_model_module_version": "1.5.0",
      "_model_name": "FloatProgressModel",
      "_view_count": null,
      "_view_module": "@jupyter-widgets/controls",
      "_view_module_version": "1.5.0",
      "_view_name": "ProgressView",
      "bar_style": "success",
      "description": "Epoch 3 train: 100%",
      "description_tooltip": null,
      "layout": "IPY_MODEL_f7adceb9304448959f8c3bf33f31e7b9",
      "max": 2000,
      "min": 0,
      "orientation": "horizontal",
      "style": "IPY_MODEL_6b8609a3fe9f467ea909cfe0b799da19",
      "value": 2000
     }
    },
    "972ae0de8c254498aa37dd62cd604006": {
     "model_module": "@jupyter-widgets/controls",
     "model_name": "HTMLModel",
     "state": {
      "_dom_classes": [],
      "_model_module": "@jupyter-widgets/controls",
      "_model_module_version": "1.5.0",
      "_model_name": "HTMLModel",
      "_view_count": null,
      "_view_module": "@jupyter-widgets/controls",
      "_view_module_version": "1.5.0",
      "_view_name": "HTMLView",
      "description": "",
      "description_tooltip": null,
      "layout": "IPY_MODEL_0755d3d34cea44bb85d1a560618554b4",
      "placeholder": "​",
      "style": "IPY_MODEL_5ffaebc261e946d29a141caaea4f5fdd",
      "value": " 2000/2000 [04:59&lt;00:00,  6.69it/s]"
     }
    },
    "a9b59b5124194f71bb18fc7974cd83cf": {
     "model_module": "@jupyter-widgets/base",
     "model_name": "LayoutModel",
     "state": {
      "_model_module": "@jupyter-widgets/base",
      "_model_module_version": "1.2.0",
      "_model_name": "LayoutModel",
      "_view_count": null,
      "_view_module": "@jupyter-widgets/base",
      "_view_module_version": "1.2.0",
      "_view_name": "LayoutView",
      "align_content": null,
      "align_items": null,
      "align_self": null,
      "border": null,
      "bottom": null,
      "display": null,
      "flex": null,
      "flex_flow": null,
      "grid_area": null,
      "grid_auto_columns": null,
      "grid_auto_flow": null,
      "grid_auto_rows": null,
      "grid_column": null,
      "grid_gap": null,
      "grid_row": null,
      "grid_template_areas": null,
      "grid_template_columns": null,
      "grid_template_rows": null,
      "height": null,
      "justify_content": null,
      "justify_items": null,
      "left": null,
      "margin": null,
      "max_height": null,
      "max_width": null,
      "min_height": null,
      "min_width": null,
      "object_fit": null,
      "object_position": null,
      "order": null,
      "overflow": null,
      "overflow_x": null,
      "overflow_y": null,
      "padding": null,
      "right": null,
      "top": null,
      "visibility": null,
      "width": null
     }
    },
    "afd69d485c10453a815faf5ead6c2b3f": {
     "model_module": "@jupyter-widgets/controls",
     "model_name": "DescriptionStyleModel",
     "state": {
      "_model_module": "@jupyter-widgets/controls",
      "_model_module_version": "1.5.0",
      "_model_name": "DescriptionStyleModel",
      "_view_count": null,
      "_view_module": "@jupyter-widgets/base",
      "_view_module_version": "1.2.0",
      "_view_name": "StyleView",
      "description_width": ""
     }
    },
    "bb5117fc52f6431abf7245060f2dd744": {
     "model_module": "@jupyter-widgets/controls",
     "model_name": "HBoxModel",
     "state": {
      "_dom_classes": [],
      "_model_module": "@jupyter-widgets/controls",
      "_model_module_version": "1.5.0",
      "_model_name": "HBoxModel",
      "_view_count": null,
      "_view_module": "@jupyter-widgets/controls",
      "_view_module_version": "1.5.0",
      "_view_name": "HBoxView",
      "box_style": "",
      "children": [
       "IPY_MODEL_46bb6b64cfa947e8922be526cfa4794b",
       "IPY_MODEL_e4b1686fa03842269d519d582733589d"
      ],
      "layout": "IPY_MODEL_f6376e0638cb4ba498ef5e7ad489cf8b"
     }
    },
    "c196876b6b2745d7ba47cd3706fdf420": {
     "model_module": "@jupyter-widgets/controls",
     "model_name": "DescriptionStyleModel",
     "state": {
      "_model_module": "@jupyter-widgets/controls",
      "_model_module_version": "1.5.0",
      "_model_name": "DescriptionStyleModel",
      "_view_count": null,
      "_view_module": "@jupyter-widgets/base",
      "_view_module_version": "1.2.0",
      "_view_name": "StyleView",
      "description_width": ""
     }
    },
    "c6bda37e4b0d42d682a70b496890f92f": {
     "model_module": "@jupyter-widgets/controls",
     "model_name": "HBoxModel",
     "state": {
      "_dom_classes": [],
      "_model_module": "@jupyter-widgets/controls",
      "_model_module_version": "1.5.0",
      "_model_name": "HBoxModel",
      "_view_count": null,
      "_view_module": "@jupyter-widgets/controls",
      "_view_module_version": "1.5.0",
      "_view_name": "HBoxView",
      "box_style": "",
      "children": [
       "IPY_MODEL_2684d578ea46469ea0c42feaeab77fd1",
       "IPY_MODEL_972ae0de8c254498aa37dd62cd604006"
      ],
      "layout": "IPY_MODEL_61783bd49f8844de812269790bc1041e"
     }
    },
    "ca629333d0e2483c8f225b75202eaf3a": {
     "model_module": "@jupyter-widgets/base",
     "model_name": "LayoutModel",
     "state": {
      "_model_module": "@jupyter-widgets/base",
      "_model_module_version": "1.2.0",
      "_model_name": "LayoutModel",
      "_view_count": null,
      "_view_module": "@jupyter-widgets/base",
      "_view_module_version": "1.2.0",
      "_view_name": "LayoutView",
      "align_content": null,
      "align_items": null,
      "align_self": null,
      "border": null,
      "bottom": null,
      "display": null,
      "flex": null,
      "flex_flow": null,
      "grid_area": null,
      "grid_auto_columns": null,
      "grid_auto_flow": null,
      "grid_auto_rows": null,
      "grid_column": null,
      "grid_gap": null,
      "grid_row": null,
      "grid_template_areas": null,
      "grid_template_columns": null,
      "grid_template_rows": null,
      "height": null,
      "justify_content": null,
      "justify_items": null,
      "left": null,
      "margin": null,
      "max_height": null,
      "max_width": null,
      "min_height": null,
      "min_width": null,
      "object_fit": null,
      "object_position": null,
      "order": null,
      "overflow": null,
      "overflow_x": null,
      "overflow_y": null,
      "padding": null,
      "right": null,
      "top": null,
      "visibility": null,
      "width": null
     }
    },
    "dec17b0625d2425185176b03d21b708d": {
     "model_module": "@jupyter-widgets/controls",
     "model_name": "HTMLModel",
     "state": {
      "_dom_classes": [],
      "_model_module": "@jupyter-widgets/controls",
      "_model_module_version": "1.5.0",
      "_model_name": "HTMLModel",
      "_view_count": null,
      "_view_module": "@jupyter-widgets/controls",
      "_view_module_version": "1.5.0",
      "_view_name": "HTMLView",
      "description": "",
      "description_tooltip": null,
      "layout": "IPY_MODEL_a9b59b5124194f71bb18fc7974cd83cf",
      "placeholder": "​",
      "style": "IPY_MODEL_0f194ec785074660a9d6c770b21f46cc",
      "value": " 2000/2000 [05:11&lt;00:00,  6.42it/s]"
     }
    },
    "e0159f02b312472889bba9086f2cc881": {
     "model_module": "@jupyter-widgets/base",
     "model_name": "LayoutModel",
     "state": {
      "_model_module": "@jupyter-widgets/base",
      "_model_module_version": "1.2.0",
      "_model_name": "LayoutModel",
      "_view_count": null,
      "_view_module": "@jupyter-widgets/base",
      "_view_module_version": "1.2.0",
      "_view_name": "LayoutView",
      "align_content": null,
      "align_items": null,
      "align_self": null,
      "border": null,
      "bottom": null,
      "display": null,
      "flex": null,
      "flex_flow": null,
      "grid_area": null,
      "grid_auto_columns": null,
      "grid_auto_flow": null,
      "grid_auto_rows": null,
      "grid_column": null,
      "grid_gap": null,
      "grid_row": null,
      "grid_template_areas": null,
      "grid_template_columns": null,
      "grid_template_rows": null,
      "height": null,
      "justify_content": null,
      "justify_items": null,
      "left": null,
      "margin": null,
      "max_height": null,
      "max_width": null,
      "min_height": null,
      "min_width": null,
      "object_fit": null,
      "object_position": null,
      "order": null,
      "overflow": null,
      "overflow_x": null,
      "overflow_y": null,
      "padding": null,
      "right": null,
      "top": null,
      "visibility": null,
      "width": null
     }
    },
    "e3078c751ecc47438e93291fe5607aab": {
     "model_module": "@jupyter-widgets/controls",
     "model_name": "HTMLModel",
     "state": {
      "_dom_classes": [],
      "_model_module": "@jupyter-widgets/controls",
      "_model_module_version": "1.5.0",
      "_model_name": "HTMLModel",
      "_view_count": null,
      "_view_module": "@jupyter-widgets/controls",
      "_view_module_version": "1.5.0",
      "_view_name": "HTMLView",
      "description": "",
      "description_tooltip": null,
      "layout": "IPY_MODEL_ca629333d0e2483c8f225b75202eaf3a",
      "placeholder": "​",
      "style": "IPY_MODEL_afd69d485c10453a815faf5ead6c2b3f",
      "value": " 2000/2000 [47:03&lt;00:00,  1.41s/it]"
     }
    },
    "e338741c7df649fa8e4e6d3f64a9f071": {
     "model_module": "@jupyter-widgets/controls",
     "model_name": "ProgressStyleModel",
     "state": {
      "_model_module": "@jupyter-widgets/controls",
      "_model_module_version": "1.5.0",
      "_model_name": "ProgressStyleModel",
      "_view_count": null,
      "_view_module": "@jupyter-widgets/base",
      "_view_module_version": "1.2.0",
      "_view_name": "StyleView",
      "bar_color": null,
      "description_width": "initial"
     }
    },
    "e4b1686fa03842269d519d582733589d": {
     "model_module": "@jupyter-widgets/controls",
     "model_name": "HTMLModel",
     "state": {
      "_dom_classes": [],
      "_model_module": "@jupyter-widgets/controls",
      "_model_module_version": "1.5.0",
      "_model_name": "HTMLModel",
      "_view_count": null,
      "_view_module": "@jupyter-widgets/controls",
      "_view_module_version": "1.5.0",
      "_view_name": "HTMLView",
      "description": "",
      "description_tooltip": null,
      "layout": "IPY_MODEL_7873a43a0ddb48d09f18c4d72b49c568",
      "placeholder": "​",
      "style": "IPY_MODEL_c196876b6b2745d7ba47cd3706fdf420",
      "value": " 2000/2000 [09:57&lt;00:00,  3.35it/s]"
     }
    },
    "eacf30e249ac42daa5db07901bdbbe60": {
     "model_module": "@jupyter-widgets/base",
     "model_name": "LayoutModel",
     "state": {
      "_model_module": "@jupyter-widgets/base",
      "_model_module_version": "1.2.0",
      "_model_name": "LayoutModel",
      "_view_count": null,
      "_view_module": "@jupyter-widgets/base",
      "_view_module_version": "1.2.0",
      "_view_name": "LayoutView",
      "align_content": null,
      "align_items": null,
      "align_self": null,
      "border": null,
      "bottom": null,
      "display": null,
      "flex": null,
      "flex_flow": null,
      "grid_area": null,
      "grid_auto_columns": null,
      "grid_auto_flow": null,
      "grid_auto_rows": null,
      "grid_column": null,
      "grid_gap": null,
      "grid_row": null,
      "grid_template_areas": null,
      "grid_template_columns": null,
      "grid_template_rows": null,
      "height": null,
      "justify_content": null,
      "justify_items": null,
      "left": null,
      "margin": null,
      "max_height": null,
      "max_width": null,
      "min_height": null,
      "min_width": null,
      "object_fit": null,
      "object_position": null,
      "order": null,
      "overflow": null,
      "overflow_x": null,
      "overflow_y": null,
      "padding": null,
      "right": null,
      "top": null,
      "visibility": null,
      "width": null
     }
    },
    "f6376e0638cb4ba498ef5e7ad489cf8b": {
     "model_module": "@jupyter-widgets/base",
     "model_name": "LayoutModel",
     "state": {
      "_model_module": "@jupyter-widgets/base",
      "_model_module_version": "1.2.0",
      "_model_name": "LayoutModel",
      "_view_count": null,
      "_view_module": "@jupyter-widgets/base",
      "_view_module_version": "1.2.0",
      "_view_name": "LayoutView",
      "align_content": null,
      "align_items": null,
      "align_self": null,
      "border": null,
      "bottom": null,
      "display": null,
      "flex": null,
      "flex_flow": null,
      "grid_area": null,
      "grid_auto_columns": null,
      "grid_auto_flow": null,
      "grid_auto_rows": null,
      "grid_column": null,
      "grid_gap": null,
      "grid_row": null,
      "grid_template_areas": null,
      "grid_template_columns": null,
      "grid_template_rows": null,
      "height": null,
      "justify_content": null,
      "justify_items": null,
      "left": null,
      "margin": null,
      "max_height": null,
      "max_width": null,
      "min_height": null,
      "min_width": null,
      "object_fit": null,
      "object_position": null,
      "order": null,
      "overflow": null,
      "overflow_x": null,
      "overflow_y": null,
      "padding": null,
      "right": null,
      "top": null,
      "visibility": null,
      "width": null
     }
    },
    "f7adceb9304448959f8c3bf33f31e7b9": {
     "model_module": "@jupyter-widgets/base",
     "model_name": "LayoutModel",
     "state": {
      "_model_module": "@jupyter-widgets/base",
      "_model_module_version": "1.2.0",
      "_model_name": "LayoutModel",
      "_view_count": null,
      "_view_module": "@jupyter-widgets/base",
      "_view_module_version": "1.2.0",
      "_view_name": "LayoutView",
      "align_content": null,
      "align_items": null,
      "align_self": null,
      "border": null,
      "bottom": null,
      "display": null,
      "flex": null,
      "flex_flow": null,
      "grid_area": null,
      "grid_auto_columns": null,
      "grid_auto_flow": null,
      "grid_auto_rows": null,
      "grid_column": null,
      "grid_gap": null,
      "grid_row": null,
      "grid_template_areas": null,
      "grid_template_columns": null,
      "grid_template_rows": null,
      "height": null,
      "justify_content": null,
      "justify_items": null,
      "left": null,
      "margin": null,
      "max_height": null,
      "max_width": null,
      "min_height": null,
      "min_width": null,
      "object_fit": null,
      "object_position": null,
      "order": null,
      "overflow": null,
      "overflow_x": null,
      "overflow_y": null,
      "padding": null,
      "right": null,
      "top": null,
      "visibility": null,
      "width": null
     }
    },
    "fb3fb76cfab94e18950b7fa8280d6bfa": {
     "model_module": "@jupyter-widgets/controls",
     "model_name": "HTMLModel",
     "state": {
      "_dom_classes": [],
      "_model_module": "@jupyter-widgets/controls",
      "_model_module_version": "1.5.0",
      "_model_name": "HTMLModel",
      "_view_count": null,
      "_view_module": "@jupyter-widgets/controls",
      "_view_module_version": "1.5.0",
      "_view_name": "HTMLView",
      "description": "",
      "description_tooltip": null,
      "layout": "IPY_MODEL_581656713b1646959f70a3420fb75960",
      "placeholder": "​",
      "style": "IPY_MODEL_07aef15d3b664adb8ffa4077ba205959",
      "value": " 2000/2000 [14:55&lt;00:00,  2.23it/s]"
     }
    },
    "ffad4c75083c4a0f8d98c5d38a1aba6d": {
     "model_module": "@jupyter-widgets/controls",
     "model_name": "ProgressStyleModel",
     "state": {
      "_model_module": "@jupyter-widgets/controls",
      "_model_module_version": "1.5.0",
      "_model_name": "ProgressStyleModel",
      "_view_count": null,
      "_view_module": "@jupyter-widgets/base",
      "_view_module_version": "1.2.0",
      "_view_name": "StyleView",
      "bar_color": null,
      "description_width": "initial"
     }
    }
   }
  }
 },
 "nbformat": 4,
 "nbformat_minor": 1
}
